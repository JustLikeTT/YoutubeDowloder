{
 "cells": [
  {
   "cell_type": "code",
   "execution_count": 1,
   "metadata": {},
   "outputs": [
    {
     "name": "stdout",
     "output_type": "stream",
     "text": [
      "[<a class=\"pl-video-title-link yt-uix-tile-link yt-uix-sessionlink spf-link \" data-sessionlink=\"ei=yKRhWrHNEceX4gKOvIPwBQ&amp;feature=plpp_video&amp;ved=CBoQxjQYACITCLHRhOXG49gCFceLWAodDt4AXij6LA\" dir=\"ltr\" href=\"/watch?v=0rtV5esQT6I&amp;index=1&amp;list=PLaCt9a8Ge4KAiprlHkXZ_2AOtJJDtSDkt\">\n",
      "      TWICE \"Like OOH-AHH(OOH-AHH하게)\" M/V\n",
      "    </a>, <a class=\"pl-video-title-link yt-uix-tile-link yt-uix-sessionlink spf-link \" data-sessionlink=\"ei=yKRhWrHNEceX4gKOvIPwBQ&amp;feature=plpp_video&amp;ved=CBsQxjQYASITCLHRhOXG49gCFceLWAodDt4AXij6LA\" dir=\"ltr\" href=\"/watch?v=KGiGz5tl4J8&amp;index=2&amp;list=PLaCt9a8Ge4KAiprlHkXZ_2AOtJJDtSDkt\">\n",
      "      【認聲+中字+空耳】TWICE - 다시 해줘 (Do it again / 再次)\n",
      "    </a>, <a class=\"pl-video-title-link yt-uix-tile-link yt-uix-sessionlink spf-link \" data-sessionlink=\"ei=yKRhWrHNEceX4gKOvIPwBQ&amp;feature=plpp_video&amp;ved=CBwQxjQYAiITCLHRhOXG49gCFceLWAodDt4AXij6LA\" dir=\"ltr\" href=\"/watch?v=JRiFI55YfHM&amp;index=3&amp;list=PLaCt9a8Ge4KAiprlHkXZ_2AOtJJDtSDkt\">\n",
      "      【認聲+中字+空耳】TWICE - 미쳤나봐 (瘋了 / I Think I'm Crazy)\n",
      "    </a>, <a class=\"pl-video-title-link yt-uix-tile-link yt-uix-sessionlink spf-link \" data-sessionlink=\"ei=yKRhWrHNEceX4gKOvIPwBQ&amp;feature=plpp_video&amp;ved=CB0QxjQYAyITCLHRhOXG49gCFceLWAodDt4AXij6LA\" dir=\"ltr\" href=\"/watch?v=15_d3kTEWMc&amp;index=4&amp;list=PLaCt9a8Ge4KAiprlHkXZ_2AOtJJDtSDkt\">\n",
      "      【認聲+中字+空耳】TWICE - Truth\n",
      "    </a>, <a class=\"pl-video-title-link yt-uix-tile-link yt-uix-sessionlink spf-link \" data-sessionlink=\"ei=yKRhWrHNEceX4gKOvIPwBQ&amp;feature=plpp_video&amp;ved=CB4QxjQYBCITCLHRhOXG49gCFceLWAodDt4AXij6LA\" dir=\"ltr\" href=\"/watch?v=odtmltj9EZA&amp;index=5&amp;list=PLaCt9a8Ge4KAiprlHkXZ_2AOtJJDtSDkt\">\n",
      "      【認聲+中字+空耳】TWICE - Candy boy\n",
      "    </a>, <a class=\"pl-video-title-link yt-uix-tile-link yt-uix-sessionlink spf-link \" data-sessionlink=\"ei=yKRhWrHNEceX4gKOvIPwBQ&amp;feature=plpp_video&amp;ved=CB8QxjQYBSITCLHRhOXG49gCFceLWAodDt4AXij6LA\" dir=\"ltr\" href=\"/watch?v=xGfrOpWuX6s&amp;index=6&amp;list=PLaCt9a8Ge4KAiprlHkXZ_2AOtJJDtSDkt\">\n",
      "      【認聲+中字+空耳】TWICE - Like A Fool\n",
      "    </a>, <a class=\"pl-video-title-link yt-uix-tile-link yt-uix-sessionlink spf-link \" data-sessionlink=\"ei=yKRhWrHNEceX4gKOvIPwBQ&amp;feature=plpp_video&amp;ved=CCAQxjQYBiITCLHRhOXG49gCFceLWAodDt4AXij6LA\" dir=\"ltr\" href=\"/watch?v=c7rCyll5AeY&amp;index=7&amp;list=PLaCt9a8Ge4KAiprlHkXZ_2AOtJJDtSDkt\">\n",
      "      TWICE \"CHEER UP\" M/V\n",
      "    </a>, <a class=\"pl-video-title-link yt-uix-tile-link yt-uix-sessionlink spf-link \" data-sessionlink=\"ei=yKRhWrHNEceX4gKOvIPwBQ&amp;feature=plpp_video&amp;ved=CCEQxjQYByITCLHRhOXG49gCFceLWAodDt4AXij6LA\" dir=\"ltr\" href=\"/watch?v=kSs6wjy-NN0&amp;index=8&amp;list=PLaCt9a8Ge4KAiprlHkXZ_2AOtJJDtSDkt\">\n",
      "      TWICE (트와이스) Precious Love Lyrics (Color Coded Han|Rom|Eng) | by Soshi Lyrics\n",
      "    </a>, <a class=\"pl-video-title-link yt-uix-tile-link yt-uix-sessionlink spf-link \" data-sessionlink=\"ei=yKRhWrHNEceX4gKOvIPwBQ&amp;feature=plpp_video&amp;ved=CCIQxjQYCCITCLHRhOXG49gCFceLWAodDt4AXij6LA\" dir=\"ltr\" href=\"/watch?v=JP70H3vUIRw&amp;index=9&amp;list=PLaCt9a8Ge4KAiprlHkXZ_2AOtJJDtSDkt\">\n",
      "      【認聲+韓中字+空耳】TWICE – Touchdown\n",
      "    </a>, <a class=\"pl-video-title-link yt-uix-tile-link yt-uix-sessionlink spf-link \" data-sessionlink=\"ei=yKRhWrHNEceX4gKOvIPwBQ&amp;feature=plpp_video&amp;ved=CCMQxjQYCSITCLHRhOXG49gCFceLWAodDt4AXij6LA\" dir=\"ltr\" href=\"/watch?v=ZXl5Xtfnt2c&amp;index=10&amp;list=PLaCt9a8Ge4KAiprlHkXZ_2AOtJJDtSDkt\">\n",
      "      【認聲+韓中字+空耳】TWICE - 툭하면 톡 (動不動就)\n",
      "    </a>, <a class=\"pl-video-title-link yt-uix-tile-link yt-uix-sessionlink spf-link \" data-sessionlink=\"ei=yKRhWrHNEceX4gKOvIPwBQ&amp;feature=plpp_video&amp;ved=CCQQxjQYCiITCLHRhOXG49gCFceLWAodDt4AXij6LA\" dir=\"ltr\" href=\"/watch?v=rUieFT_QPzM&amp;index=11&amp;list=PLaCt9a8Ge4KAiprlHkXZ_2AOtJJDtSDkt\">\n",
      "      【認聲+韓中字+空耳】TWICE - Woohoo\n",
      "    </a>, <a class=\"pl-video-title-link yt-uix-tile-link yt-uix-sessionlink spf-link \" data-sessionlink=\"ei=yKRhWrHNEceX4gKOvIPwBQ&amp;feature=plpp_video&amp;ved=CCUQxjQYCyITCLHRhOXG49gCFceLWAodDt4AXij6LA\" dir=\"ltr\" href=\"/watch?v=3pL85r9iGbA&amp;index=12&amp;list=PLaCt9a8Ge4KAiprlHkXZ_2AOtJJDtSDkt\">\n",
      "      【認聲+韓中字+空耳】TWICE – Headphone 써\n",
      "    </a>, <a class=\"pl-video-title-link yt-uix-tile-link yt-uix-sessionlink spf-link \" data-sessionlink=\"ei=yKRhWrHNEceX4gKOvIPwBQ&amp;feature=plpp_video&amp;ved=CCYQxjQYDCITCLHRhOXG49gCFceLWAodDt4AXij6LA\" dir=\"ltr\" href=\"/watch?v=7_s8ZPLypHM&amp;index=13&amp;list=PLaCt9a8Ge4KAiprlHkXZ_2AOtJJDtSDkt\">\n",
      "      【認聲+韓中字+空耳】TWICE - I'm Gonna Be a Star\n",
      "    </a>, <a class=\"pl-video-title-link yt-uix-tile-link yt-uix-sessionlink spf-link \" data-sessionlink=\"ei=yKRhWrHNEceX4gKOvIPwBQ&amp;feature=plpp_video&amp;ved=CCcQxjQYDSITCLHRhOXG49gCFceLWAodDt4AXij6LA\" dir=\"ltr\" href=\"/watch?v=ePpPVE-GGJw&amp;index=14&amp;list=PLaCt9a8Ge4KAiprlHkXZ_2AOtJJDtSDkt\">\n",
      "      TWICE(트와이스) \"TT\" M/V\n",
      "    </a>, <a class=\"pl-video-title-link yt-uix-tile-link yt-uix-sessionlink spf-link \" data-sessionlink=\"ei=yKRhWrHNEceX4gKOvIPwBQ&amp;feature=plpp_video&amp;ved=CCgQxjQYDiITCLHRhOXG49gCFceLWAodDt4AXij6LA\" dir=\"ltr\" href=\"/watch?v=hMZacrgBTrg&amp;index=15&amp;list=PLaCt9a8Ge4KAiprlHkXZ_2AOtJJDtSDkt\">\n",
      "      【認聲+韓中字+空耳】TWICE - 1 TO 10\n",
      "    </a>, <a class=\"pl-video-title-link yt-uix-tile-link yt-uix-sessionlink spf-link \" data-sessionlink=\"ei=yKRhWrHNEceX4gKOvIPwBQ&amp;feature=plpp_video&amp;ved=CCkQxjQYDyITCLHRhOXG49gCFceLWAodDt4AXij6LA\" dir=\"ltr\" href=\"/watch?v=235vCNz2j_4&amp;index=16&amp;list=PLaCt9a8Ge4KAiprlHkXZ_2AOtJJDtSDkt\">\n",
      "      【認聲+韓中字+空耳】TWICE - ONE IN A MILLION\n",
      "    </a>, <a class=\"pl-video-title-link yt-uix-tile-link yt-uix-sessionlink spf-link \" data-sessionlink=\"ei=yKRhWrHNEceX4gKOvIPwBQ&amp;feature=plpp_video&amp;ved=CCoQxjQYECITCLHRhOXG49gCFceLWAodDt4AXij6LA\" dir=\"ltr\" href=\"/watch?v=9gtL4kqBMKA&amp;index=17&amp;list=PLaCt9a8Ge4KAiprlHkXZ_2AOtJJDtSDkt\">\n",
      "      【認聲+韓中字+空耳】TWICE - JELLY JELLY\n",
      "    </a>, <a class=\"pl-video-title-link yt-uix-tile-link yt-uix-sessionlink spf-link \" data-sessionlink=\"ei=yKRhWrHNEceX4gKOvIPwBQ&amp;feature=plpp_video&amp;ved=CCsQxjQYESITCLHRhOXG49gCFceLWAodDt4AXij6LA\" dir=\"ltr\" href=\"/watch?v=C3gq_UCsra4&amp;index=18&amp;list=PLaCt9a8Ge4KAiprlHkXZ_2AOtJJDtSDkt\">\n",
      "      【認聲+韓中字+空耳】TWICE - PIT-A-PAT\n",
      "    </a>, <a class=\"pl-video-title-link yt-uix-tile-link yt-uix-sessionlink spf-link \" data-sessionlink=\"ei=yKRhWrHNEceX4gKOvIPwBQ&amp;feature=plpp_video&amp;ved=CCwQxjQYEiITCLHRhOXG49gCFceLWAodDt4AXij6LA\" dir=\"ltr\" href=\"/watch?v=efMA7YXBRYk&amp;index=19&amp;list=PLaCt9a8Ge4KAiprlHkXZ_2AOtJJDtSDkt\">\n",
      "      【認聲+韓中字+空耳】TWICE - NEXT PAGE\n",
      "    </a>, <a class=\"pl-video-title-link yt-uix-tile-link yt-uix-sessionlink spf-link \" data-sessionlink=\"ei=yKRhWrHNEceX4gKOvIPwBQ&amp;feature=plpp_video&amp;ved=CC0QxjQYEyITCLHRhOXG49gCFceLWAodDt4AXij6LA\" dir=\"ltr\" href=\"/watch?v=k_9owDHIAVs&amp;index=20&amp;list=PLaCt9a8Ge4KAiprlHkXZ_2AOtJJDtSDkt\">\n",
      "      【認聲+中字+空耳】TWICE - PONYTAIL\n",
      "    </a>, <a class=\"pl-video-title-link yt-uix-tile-link yt-uix-sessionlink spf-link \" data-sessionlink=\"ei=yKRhWrHNEceX4gKOvIPwBQ&amp;feature=plpp_video&amp;ved=CC4QxjQYFCITCLHRhOXG49gCFceLWAodDt4AXij6LA\" dir=\"ltr\" href=\"/watch?v=8A2t_tAjMz8&amp;index=21&amp;list=PLaCt9a8Ge4KAiprlHkXZ_2AOtJJDtSDkt\">\n",
      "      TWICE(트와이스) \"KNOCK KNOCK\" M/V\n",
      "    </a>, <a class=\"pl-video-title-link yt-uix-tile-link yt-uix-sessionlink spf-link \" data-sessionlink=\"ei=yKRhWrHNEceX4gKOvIPwBQ&amp;feature=plpp_video&amp;ved=CC8QxjQYFSITCLHRhOXG49gCFceLWAodDt4AXij6LA\" dir=\"ltr\" href=\"/watch?v=Z6w2QPqYtrs&amp;index=22&amp;list=PLaCt9a8Ge4KAiprlHkXZ_2AOtJJDtSDkt\">\n",
      "      TWICE (트와이스) Melting Lyrics (녹아요) Han|Rom|Eng Color Coded\n",
      "    </a>, <a class=\"pl-video-title-link yt-uix-tile-link yt-uix-sessionlink spf-link \" data-sessionlink=\"ei=yKRhWrHNEceX4gKOvIPwBQ&amp;feature=plpp_video&amp;ved=CDAQxjQYFiITCLHRhOXG49gCFceLWAodDt4AXij6LA\" dir=\"ltr\" href=\"/watch?v=VQtonf1fv_s&amp;index=23&amp;list=PLaCt9a8Ge4KAiprlHkXZ_2AOtJJDtSDkt\">\n",
      "      TWICE \"SIGNAL\" M/V\n",
      "    </a>, <a class=\"pl-video-title-link yt-uix-tile-link yt-uix-sessionlink spf-link \" data-sessionlink=\"ei=yKRhWrHNEceX4gKOvIPwBQ&amp;feature=plpp_video&amp;ved=CDEQxjQYFyITCLHRhOXG49gCFceLWAodDt4AXij6LA\" dir=\"ltr\" href=\"/watch?v=Dnzjxg_Yv68&amp;index=24&amp;list=PLaCt9a8Ge4KAiprlHkXZ_2AOtJJDtSDkt\">\n",
      "      TWICE(트와이스) \"THREE TIMES A DAY\" M/V\n",
      "    </a>, <a class=\"pl-video-title-link yt-uix-tile-link yt-uix-sessionlink spf-link \" data-sessionlink=\"ei=yKRhWrHNEceX4gKOvIPwBQ&amp;feature=plpp_video&amp;ved=CDIQxjQYGCITCLHRhOXG49gCFceLWAodDt4AXij6LA\" dir=\"ltr\" href=\"/watch?v=Igd3E5h4MWA&amp;index=25&amp;list=PLaCt9a8Ge4KAiprlHkXZ_2AOtJJDtSDkt\">\n",
      "      TWICE - Hold Me Tight Lyrics (Han|Rom|Eng) Color Coded\n",
      "    </a>, <a class=\"pl-video-title-link yt-uix-tile-link yt-uix-sessionlink spf-link \" data-sessionlink=\"ei=yKRhWrHNEceX4gKOvIPwBQ&amp;feature=plpp_video&amp;ved=CDMQxjQYGSITCLHRhOXG49gCFceLWAodDt4AXij6LA\" dir=\"ltr\" href=\"/watch?v=DkgNYR6eVrw&amp;index=26&amp;list=PLaCt9a8Ge4KAiprlHkXZ_2AOtJJDtSDkt\">\n",
      "      TWICE - Eye Eye Eyes Lyrics (Han|Rom|Eng) Color Coded\n",
      "    </a>, <a class=\"pl-video-title-link yt-uix-tile-link yt-uix-sessionlink spf-link \" data-sessionlink=\"ei=yKRhWrHNEceX4gKOvIPwBQ&amp;feature=plpp_video&amp;ved=CDQQxjQYGiITCLHRhOXG49gCFceLWAodDt4AXij6LA\" dir=\"ltr\" href=\"/watch?v=gpaW4U779Uc&amp;index=27&amp;list=PLaCt9a8Ge4KAiprlHkXZ_2AOtJJDtSDkt\">\n",
      "      TWICE - Someone Like Me Lyrics (Han|Rom|Eng) Color Coded\n",
      "    </a>, <a class=\"pl-video-title-link yt-uix-tile-link yt-uix-sessionlink spf-link \" data-sessionlink=\"ei=yKRhWrHNEceX4gKOvIPwBQ&amp;feature=plpp_video&amp;ved=CDUQxjQYGyITCLHRhOXG49gCFceLWAodDt4AXij6LA\" dir=\"ltr\" href=\"/watch?v=vS53e3wQcww&amp;index=28&amp;list=PLaCt9a8Ge4KAiprlHkXZ_2AOtJJDtSDkt\">\n",
      "      TWICE (트와이스) \"ONLY 너\" FM/V\n",
      "    </a>, <a class=\"pl-video-title-link yt-uix-tile-link yt-uix-sessionlink spf-link \" data-sessionlink=\"ei=yKRhWrHNEceX4gKOvIPwBQ&amp;feature=plpp_video&amp;ved=CDYQxjQYHCITCLHRhOXG49gCFceLWAodDt4AXij6LA\" dir=\"ltr\" href=\"/watch?v=jZldgEtebwY&amp;index=29&amp;list=PLaCt9a8Ge4KAiprlHkXZ_2AOtJJDtSDkt\">\n",
      "      TWICE 트와이스 [トゥワイス]  Like OOH AHH  Japanese Ver. Fan Music Video (FMV)\n",
      "    </a>, <a class=\"pl-video-title-link yt-uix-tile-link yt-uix-sessionlink spf-link \" data-sessionlink=\"ei=yKRhWrHNEceX4gKOvIPwBQ&amp;feature=plpp_video&amp;ved=CDcQxjQYHSITCLHRhOXG49gCFceLWAodDt4AXij6LA\" dir=\"ltr\" href=\"/watch?v=yz8VnQllP1w&amp;index=30&amp;list=PLaCt9a8Ge4KAiprlHkXZ_2AOtJJDtSDkt\">\n",
      "      TWICE \"CHEER UP\" Japanese ver. M/V FM\n",
      "    </a>, <a class=\"pl-video-title-link yt-uix-tile-link yt-uix-sessionlink spf-link \" data-sessionlink=\"ei=yKRhWrHNEceX4gKOvIPwBQ&amp;feature=plpp_video&amp;ved=CDgQxjQYHiITCLHRhOXG49gCFceLWAodDt4AXij6LA\" dir=\"ltr\" href=\"/watch?v=t35H2BVq490&amp;index=31&amp;list=PLaCt9a8Ge4KAiprlHkXZ_2AOtJJDtSDkt\">\n",
      "      TWICE「TT -Japanese ver.-」Music Video\n",
      "    </a>, <a class=\"pl-video-title-link yt-uix-tile-link yt-uix-sessionlink spf-link \" data-sessionlink=\"ei=yKRhWrHNEceX4gKOvIPwBQ&amp;feature=plpp_video&amp;ved=CDkQxjQYHyITCLHRhOXG49gCFceLWAodDt4AXij6LA\" dir=\"ltr\" href=\"/watch?v=8HZE0791wuQ&amp;index=32&amp;list=PLaCt9a8Ge4KAiprlHkXZ_2AOtJJDtSDkt\">\n",
      "      Twice (트와이스)-Signal (Japanese Version) Color Coded Lyrics (Japanese/Rom/Eng)\n",
      "    </a>, <a class=\"pl-video-title-link yt-uix-tile-link yt-uix-sessionlink spf-link \" data-sessionlink=\"ei=yKRhWrHNEceX4gKOvIPwBQ&amp;feature=plpp_video&amp;ved=CDoQxjQYICITCLHRhOXG49gCFceLWAodDt4AXij6LA\" dir=\"ltr\" href=\"/watch?v=OAZAB8aHgz8&amp;index=33&amp;list=PLaCt9a8Ge4KAiprlHkXZ_2AOtJJDtSDkt\">\n",
      "      [中字] TWICE Mina 名井南 '좋은 사람(好人)' Cover (CC字幕)\n",
      "    </a>, <a class=\"pl-video-title-link yt-uix-tile-link yt-uix-sessionlink spf-link \" data-sessionlink=\"ei=yKRhWrHNEceX4gKOvIPwBQ&amp;feature=plpp_video&amp;ved=CDsQxjQYISITCLHRhOXG49gCFceLWAodDt4AXij6LA\" dir=\"ltr\" href=\"/watch?v=uK16TLBzWYo&amp;index=34&amp;list=PLaCt9a8Ge4KAiprlHkXZ_2AOtJJDtSDkt\">\n",
      "      TWICE(트와이스) CHAEYOUNG MELODY PROJECT\n",
      "    </a>, <a class=\"pl-video-title-link yt-uix-tile-link yt-uix-sessionlink spf-link \" data-sessionlink=\"ei=yKRhWrHNEceX4gKOvIPwBQ&amp;feature=plpp_video&amp;ved=CDwQxjQYIiITCLHRhOXG49gCFceLWAodDt4AXij6LA\" dir=\"ltr\" href=\"/watch?v=HuoOEry-Yc4&amp;index=35&amp;list=PLaCt9a8Ge4KAiprlHkXZ_2AOtJJDtSDkt\">\n",
      "      TWICE「One More Time」Music Video\n",
      "    </a>, <a class=\"pl-video-title-link yt-uix-tile-link yt-uix-sessionlink spf-link \" data-sessionlink=\"ei=yKRhWrHNEceX4gKOvIPwBQ&amp;feature=plpp_video&amp;ved=CD0QxjQYIyITCLHRhOXG49gCFceLWAodDt4AXij6LA\" dir=\"ltr\" href=\"/watch?v=pzHgWoztiyw&amp;index=36&amp;list=PLaCt9a8Ge4KAiprlHkXZ_2AOtJJDtSDkt\">\n",
      "      Knock Knock 【日本語Ver.】\n",
      "    </a>, <a class=\"pl-video-title-link yt-uix-tile-link yt-uix-sessionlink spf-link \" data-sessionlink=\"ei=yKRhWrHNEceX4gKOvIPwBQ&amp;feature=plpp_video&amp;ved=CD4QxjQYJCITCLHRhOXG49gCFceLWAodDt4AXij6LA\" dir=\"ltr\" href=\"/watch?v=YeBbK5JbBR8&amp;index=37&amp;list=PLaCt9a8Ge4KAiprlHkXZ_2AOtJJDtSDkt\">\n",
      "      中 字 2016 年唐突的女人 TWICE\n",
      "    </a>, <a class=\"pl-video-title-link yt-uix-tile-link yt-uix-sessionlink spf-link \" data-sessionlink=\"ei=yKRhWrHNEceX4gKOvIPwBQ&amp;feature=plpp_video&amp;ved=CD8QxjQYJSITCLHRhOXG49gCFceLWAodDt4AXij6LA\" dir=\"ltr\" href=\"/watch?v=0kWidNV5s3w&amp;index=38&amp;list=PLaCt9a8Ge4KAiprlHkXZ_2AOtJJDtSDkt\">\n",
      "      商訊「LUV ME」Fanmade音樂視頻\n",
      "    </a>, <a class=\"pl-video-title-link yt-uix-tile-link yt-uix-sessionlink spf-link \" data-sessionlink=\"ei=yKRhWrHNEceX4gKOvIPwBQ&amp;feature=plpp_video&amp;ved=CEAQxjQYJiITCLHRhOXG49gCFceLWAodDt4AXij6LA\" dir=\"ltr\" href=\"/watch?v=V2hlQkVJZhE&amp;index=39&amp;list=PLaCt9a8Ge4KAiprlHkXZ_2AOtJJDtSDkt\">\n",
      "      TWICE \"LIKEY\" M/V\n",
      "    </a>, <a class=\"pl-video-title-link yt-uix-tile-link yt-uix-sessionlink spf-link \" data-sessionlink=\"ei=yKRhWrHNEceX4gKOvIPwBQ&amp;feature=plpp_video&amp;ved=CEEQxjQYJyITCLHRhOXG49gCFceLWAodDt4AXij6LA\" dir=\"ltr\" href=\"/watch?v=IEOHkaQcRwA&amp;index=40&amp;list=PLaCt9a8Ge4KAiprlHkXZ_2AOtJJDtSDkt\">\n",
      "      TWICE (트와이스) - TURTLE (거북이) Lyrics [Color Coded_Han_Rom_Eng]\n",
      "    </a>, <a class=\"pl-video-title-link yt-uix-tile-link yt-uix-sessionlink spf-link \" data-sessionlink=\"ei=yKRhWrHNEceX4gKOvIPwBQ&amp;feature=plpp_video&amp;ved=CEIQxjQYKCITCLHRhOXG49gCFceLWAodDt4AXij6LA\" dir=\"ltr\" href=\"/watch?v=iiOHI0X-A3w&amp;index=41&amp;list=PLaCt9a8Ge4KAiprlHkXZ_2AOtJJDtSDkt\">\n",
      "      TWICE (트와이스) - MISSING U Lyrics [Color Coded_Han_Rom_Eng]\n",
      "    </a>, <a class=\"pl-video-title-link yt-uix-tile-link yt-uix-sessionlink spf-link \" data-sessionlink=\"ei=yKRhWrHNEceX4gKOvIPwBQ&amp;feature=plpp_video&amp;ved=CEMQxjQYKSITCLHRhOXG49gCFceLWAodDt4AXij6LA\" dir=\"ltr\" href=\"/watch?v=C2RiBkNsAnk&amp;index=42&amp;list=PLaCt9a8Ge4KAiprlHkXZ_2AOtJJDtSDkt\">\n",
      "      TWICE (트와이스) - WOW Lyrics [Color Coded_Han_Rom_Eng]\n",
      "    </a>, <a class=\"pl-video-title-link yt-uix-tile-link yt-uix-sessionlink spf-link \" data-sessionlink=\"ei=yKRhWrHNEceX4gKOvIPwBQ&amp;feature=plpp_video&amp;ved=CEQQxjQYKiITCLHRhOXG49gCFceLWAodDt4AXij6LA\" dir=\"ltr\" href=\"/watch?v=BXI6z_b8tK0&amp;index=43&amp;list=PLaCt9a8Ge4KAiprlHkXZ_2AOtJJDtSDkt\">\n",
      "      TWICE (트와이스) - FFW (Fast Forward) Lyrics [Color Coded_Han_Rom_Eng]\n",
      "    </a>, <a class=\"pl-video-title-link yt-uix-tile-link yt-uix-sessionlink spf-link \" data-sessionlink=\"ei=yKRhWrHNEceX4gKOvIPwBQ&amp;feature=plpp_video&amp;ved=CEUQxjQYKyITCLHRhOXG49gCFceLWAodDt4AXij6LA\" dir=\"ltr\" href=\"/watch?v=xCNzw-YSLnI&amp;index=44&amp;list=PLaCt9a8Ge4KAiprlHkXZ_2AOtJJDtSDkt\">\n",
      "      TWICE (트와이스) - DING DONG Lyrics [Color Coded_Han_Rom_Eng]\n",
      "    </a>, <a class=\"pl-video-title-link yt-uix-tile-link yt-uix-sessionlink spf-link \" data-sessionlink=\"ei=yKRhWrHNEceX4gKOvIPwBQ&amp;feature=plpp_video&amp;ved=CEYQxjQYLCITCLHRhOXG49gCFceLWAodDt4AXij6LA\" dir=\"ltr\" href=\"/watch?v=-SN3MFocPgs&amp;index=45&amp;list=PLaCt9a8Ge4KAiprlHkXZ_2AOtJJDtSDkt\">\n",
      "      TWICE (트와이스) - 24/7 Lyrics [Color Coded_Han_Rom_Eng]\n",
      "    </a>, <a class=\"pl-video-title-link yt-uix-tile-link yt-uix-sessionlink spf-link \" data-sessionlink=\"ei=yKRhWrHNEceX4gKOvIPwBQ&amp;feature=plpp_video&amp;ved=CEcQxjQYLSITCLHRhOXG49gCFceLWAodDt4AXij6LA\" dir=\"ltr\" href=\"/watch?v=Yjyn6Ily6hM&amp;index=46&amp;list=PLaCt9a8Ge4KAiprlHkXZ_2AOtJJDtSDkt\">\n",
      "      TWICE (트와이스) - LOOK AT ME (날 바라바라봐) Lyrics [Color Coded_Han_Rom_Eng]\n",
      "    </a>, <a class=\"pl-video-title-link yt-uix-tile-link yt-uix-sessionlink spf-link \" data-sessionlink=\"ei=yKRhWrHNEceX4gKOvIPwBQ&amp;feature=plpp_video&amp;ved=CEgQxjQYLiITCLHRhOXG49gCFceLWAodDt4AXij6LA\" dir=\"ltr\" href=\"/watch?v=jeTERbvQw_U&amp;index=47&amp;list=PLaCt9a8Ge4KAiprlHkXZ_2AOtJJDtSDkt\">\n",
      "      TWICE (트와이스) ROLLIN’ LYRICS (Han/Rom) COLOUR CODED\n",
      "    </a>, <a class=\"pl-video-title-link yt-uix-tile-link yt-uix-sessionlink spf-link \" data-sessionlink=\"ei=yKRhWrHNEceX4gKOvIPwBQ&amp;feature=plpp_video&amp;ved=CEkQxjQYLyITCLHRhOXG49gCFceLWAodDt4AXij6LA\" dir=\"ltr\" href=\"/watch?v=ZxPD0yJ_7pE&amp;index=48&amp;list=PLaCt9a8Ge4KAiprlHkXZ_2AOtJJDtSDkt\">\n",
      "      TWICE (트와이스) - DON'T GIVE UP! (힘내!) Lyrics [Color Coded_Han_Rom_Eng]\n",
      "    </a>, <a class=\"pl-video-title-link yt-uix-tile-link yt-uix-sessionlink spf-link \" data-sessionlink=\"ei=yKRhWrHNEceX4gKOvIPwBQ&amp;feature=plpp_video&amp;ved=CEoQxjQYMCITCLHRhOXG49gCFceLWAodDt4AXij6LA\" dir=\"ltr\" href=\"/watch?v=3QsJvGB3_UU&amp;index=49&amp;list=PLaCt9a8Ge4KAiprlHkXZ_2AOtJJDtSDkt\">\n",
      "      TWICE (트와이스) - YOU IN MY HEART / HAVING YOU (널 내게 담아) Lyrics [Color Coded_Han_Rom_Eng]\n",
      "    </a>, <a class=\"pl-video-title-link yt-uix-tile-link yt-uix-sessionlink spf-link \" data-sessionlink=\"ei=yKRhWrHNEceX4gKOvIPwBQ&amp;feature=plpp_video&amp;ved=CEsQxjQYMSITCLHRhOXG49gCFceLWAodDt4AXij6LA\" dir=\"ltr\" href=\"/watch?v=SxqgmfykBfE&amp;index=50&amp;list=PLaCt9a8Ge4KAiprlHkXZ_2AOtJJDtSDkt\">\n",
      "      TWICE (트와이스) - SLEEP TIGHT GOOD NIGHT (잘자요 굿나잇) Lyrics [Color Coded_Han_Rom_Eng]\n",
      "    </a>, <a class=\"pl-video-title-link yt-uix-tile-link yt-uix-sessionlink spf-link \" data-sessionlink=\"ei=yKRhWrHNEceX4gKOvIPwBQ&amp;feature=plpp_video&amp;ved=CEwQxjQYMiITCLHRhOXG49gCFceLWAodDt4AXij6LA\" dir=\"ltr\" href=\"/watch?v=SAMvs0a3kBc&amp;index=51&amp;list=PLaCt9a8Ge4KAiprlHkXZ_2AOtJJDtSDkt\">\n",
      "      [네이처컬렉션] 트둥이들의 상큼, 발랄, 청순한 뮤직비디오!\n",
      "    </a>, <a class=\"pl-video-title-link yt-uix-tile-link yt-uix-sessionlink spf-link \" data-sessionlink=\"ei=yKRhWrHNEceX4gKOvIPwBQ&amp;feature=plpp_video&amp;ved=CE0QxjQYMyITCLHRhOXG49gCFceLWAodDt4AXij6LA\" dir=\"ltr\" href=\"/watch?v=_SbdRIg0GcI&amp;index=52&amp;list=PLaCt9a8Ge4KAiprlHkXZ_2AOtJJDtSDkt\">\n",
      "      TWICE (트와이스) -  LOVE LINE Lyrics [Color Coded_Han_Rom_Eng]\n",
      "    </a>, <a class=\"pl-video-title-link yt-uix-tile-link yt-uix-sessionlink spf-link \" data-sessionlink=\"ei=yKRhWrHNEceX4gKOvIPwBQ&amp;feature=plpp_video&amp;ved=CE4QxjQYNCITCLHRhOXG49gCFceLWAodDt4AXij6LA\" dir=\"ltr\" href=\"/watch?v=rRzxEiBLQCA&amp;index=53&amp;list=PLaCt9a8Ge4KAiprlHkXZ_2AOtJJDtSDkt\">\n",
      "      TWICE \"Heart Shaker\" M/V\n",
      "    </a>, <a class=\"pl-video-title-link yt-uix-tile-link yt-uix-sessionlink spf-link \" data-sessionlink=\"ei=yKRhWrHNEceX4gKOvIPwBQ&amp;feature=plpp_video&amp;ved=CE8QxjQYNSITCLHRhOXG49gCFceLWAodDt4AXij6LA\" dir=\"ltr\" href=\"/watch?v=zi_6oaQyckM&amp;index=54&amp;list=PLaCt9a8Ge4KAiprlHkXZ_2AOtJJDtSDkt\">\n",
      "      TWICE \"Merry &amp; Happy\" M/V\n",
      "    </a>, <a class=\"pl-video-title-link yt-uix-tile-link yt-uix-sessionlink spf-link \" data-sessionlink=\"ei=yKRhWrHNEceX4gKOvIPwBQ&amp;feature=plpp_video&amp;ved=CFAQxjQYNiITCLHRhOXG49gCFceLWAodDt4AXij6LA\" dir=\"ltr\" href=\"/watch?v=wQ_POfToaVY&amp;index=55&amp;list=PLaCt9a8Ge4KAiprlHkXZ_2AOtJJDtSDkt\">\n",
      "      TWICE「Candy Pop」Music Video\n",
      "    </a>]\n"
     ]
    }
   ],
   "source": [
    "from bs4 import BeautifulSoup as bs\n",
    "from urllib.request import urlopen\n",
    "\n",
    "ytUrl = 'http://youtube.com'\n",
    "playListUrl = '/playlist?list=PLaCt9a8Ge4KAiprlHkXZ_2AOtJJDtSDkt'\n",
    "\n",
    "listHtml = urlopen(ytUrl+playListUrl)\n",
    "soup = bs(listHtml,'html.parser')\n",
    "videoListTag_a = soup.find_all('a',class_='pl-video-title-link yt-uix-tile-link yt-uix-sessionlink spf-link ')\n",
    "print(videoListTag_a)\n"
   ]
  },
  {
   "cell_type": "code",
   "execution_count": 2,
   "metadata": {},
   "outputs": [
    {
     "name": "stdout",
     "output_type": "stream",
     "text": [
      "<pytube.__main__.YouTube object at 0x000001C650BA76A0>\n"
     ]
    }
   ],
   "source": [
    "import pytube\n",
    "import time\n",
    "fileDownloadPath = 'C:\\\\Users\\\\HeJiXiao\\\\Music'\n",
    "filename = ''\n",
    "fileType = 'mp4' #default = mp4\n",
    "count = 0\n",
    "for link in videoListTag_a:\n",
    "    try:\n",
    "        linkHref = link['href']\n",
    "        linkID = linkHref[:linkHref.find('&')]\n",
    "        yt = pytube.YouTube('https://www.youtube.com/watch?v=9bZkp7q19f0')\n",
    "        #yt.streams.first().download(fileDownloadPath)\n",
    "        print(ytUrl + linkID,count)\n",
    "        count += 1\n",
    "        time.sleep(5)\n",
    "    except Exception:\n",
    "        print(ytUrl + linkID,count,Exception)\n",
    "        count += 1"
   ]
  },
  {
   "cell_type": "code",
   "execution_count": 3,
   "metadata": {},
   "outputs": [
    {
     "name": "stdout",
     "output_type": "stream",
     "text": [
      "http://youtube.com/watch?v=0rtV5esQT6I 0\n",
      "http://youtube.com/watch?v=KGiGz5tl4J8 1\n"
     ]
    },
    {
     "ename": "KeyboardInterrupt",
     "evalue": "",
     "output_type": "error",
     "traceback": [
      "\u001b[1;31m---------------------------------------------------------------------------\u001b[0m",
      "\u001b[1;31mKeyboardInterrupt\u001b[0m                         Traceback (most recent call last)",
      "\u001b[1;32m<ipython-input-3-578c00913056>\u001b[0m in \u001b[0;36m<module>\u001b[1;34m()\u001b[0m\n\u001b[0;32m     13\u001b[0m         \u001b[0mprint\u001b[0m\u001b[1;33m(\u001b[0m\u001b[0mytUrl\u001b[0m \u001b[1;33m+\u001b[0m \u001b[0mlinkID\u001b[0m\u001b[1;33m,\u001b[0m\u001b[0mcount\u001b[0m\u001b[1;33m)\u001b[0m\u001b[1;33m\u001b[0m\u001b[0m\n\u001b[0;32m     14\u001b[0m         \u001b[0mcount\u001b[0m \u001b[1;33m+=\u001b[0m \u001b[1;36m1\u001b[0m\u001b[1;33m\u001b[0m\u001b[0m\n\u001b[1;32m---> 15\u001b[1;33m         \u001b[0mtime\u001b[0m\u001b[1;33m.\u001b[0m\u001b[0msleep\u001b[0m\u001b[1;33m(\u001b[0m\u001b[1;36m5\u001b[0m\u001b[1;33m)\u001b[0m\u001b[1;33m\u001b[0m\u001b[0m\n\u001b[0m\u001b[0;32m     16\u001b[0m     \u001b[1;32mexcept\u001b[0m \u001b[0mException\u001b[0m\u001b[1;33m:\u001b[0m\u001b[1;33m\u001b[0m\u001b[0m\n\u001b[0;32m     17\u001b[0m         \u001b[0mprint\u001b[0m\u001b[1;33m(\u001b[0m\u001b[0mytUrl\u001b[0m \u001b[1;33m+\u001b[0m \u001b[0mlinkID\u001b[0m\u001b[1;33m,\u001b[0m\u001b[0mcount\u001b[0m\u001b[1;33m,\u001b[0m\u001b[0mException\u001b[0m\u001b[1;33m)\u001b[0m\u001b[1;33m\u001b[0m\u001b[0m\n",
      "\u001b[1;31mKeyboardInterrupt\u001b[0m: "
     ]
    }
   ],
   "source": []
  },
  {
   "cell_type": "code",
   "execution_count": null,
   "metadata": {
    "collapsed": true
   },
   "outputs": [],
   "source": []
  },
  {
   "cell_type": "code",
   "execution_count": null,
   "metadata": {
    "collapsed": true
   },
   "outputs": [],
   "source": []
  },
  {
   "cell_type": "code",
   "execution_count": null,
   "metadata": {
    "collapsed": true
   },
   "outputs": [],
   "source": []
  }
 ],
 "metadata": {
  "kernelspec": {
   "display_name": "Python 3",
   "language": "python",
   "name": "python3"
  },
  "language_info": {
   "codemirror_mode": {
    "name": "ipython",
    "version": 3
   },
   "file_extension": ".py",
   "mimetype": "text/x-python",
   "name": "python",
   "nbconvert_exporter": "python",
   "pygments_lexer": "ipython3",
   "version": "3.6.3"
  }
 },
 "nbformat": 4,
 "nbformat_minor": 2
}
